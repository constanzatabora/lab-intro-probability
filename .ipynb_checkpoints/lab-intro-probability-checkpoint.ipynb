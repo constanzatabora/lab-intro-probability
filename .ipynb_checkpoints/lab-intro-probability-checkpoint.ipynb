{
 "cells": [
  {
   "cell_type": "markdown",
   "metadata": {},
   "source": [
    "# Lab | Intro to Probability"
   ]
  },
  {
   "cell_type": "markdown",
   "metadata": {},
   "source": [
    "**Objective**\n",
    "\n",
    "Welcome to this Intro to Probability lab, where we explore decision-making scenarios through the lens of probability and strategic analysis. In the business world, making informed decisions is crucial, especially when faced with uncertainties. This lab focuses on scenarios where probabilistic outcomes play a significant role in shaping strategies and outcomes. Students will engage in exercises that require assessing and choosing optimal paths based on data-driven insights. The goal is to enhance your skills by applying probability concepts to solve real-world problems."
   ]
  },
  {
   "cell_type": "markdown",
   "metadata": {},
   "source": [
    "**Challenge 1**"
   ]
  },
  {
   "cell_type": "markdown",
   "metadata": {},
   "source": [
    "#### Ironhack Airlines \n",
    "\n",
    "Often Airlines sell more tickets than they have seats available, this is called overbooking. Consider the following:\n",
    "- A plane has 450 seats. \n",
    "- Based on historical data we conclude that each individual passenger has a 3% chance of missing it's flight. \n",
    "\n",
    "If the Ironhack Airlines routinely sells 460 tickets, what is the chance that they have a seats for all passenger?"
   ]
  },
  {
   "cell_type": "code",
   "execution_count": 2,
   "metadata": {},
   "outputs": [
    {
     "data": {
      "text/plain": [
       "(446.2, 3.6586882895376607, 1.0386235993009965, 0.8505100870586242)"
      ]
     },
     "execution_count": 2,
     "metadata": {},
     "output_type": "execute_result"
    }
   ],
   "source": [
    "#code here\n",
    "from scipy.stats import norm\n",
    "import math\n",
    "\n",
    "# Parameters\n",
    "n = 460  # number of trials\n",
    "p = 0.97  # probability of success\n",
    "\n",
    "# Mean and standard deviation\n",
    "mu = n * p  # mean\n",
    "sigma = math.sqrt(n * p * (1 - p))  # standard deviation\n",
    "\n",
    "# Calculate Z-score for X = 450\n",
    "x = 450\n",
    "z = (x - mu) / sigma\n",
    "\n",
    "# Calculate probability P(X <= 450)\n",
    "probability = norm.cdf(z)\n",
    "\n",
    "mu, sigma, z, probability"
   ]
  },
  {
   "cell_type": "markdown",
   "metadata": {},
   "source": [
    "**Challenge 2**"
   ]
  },
  {
   "cell_type": "markdown",
   "metadata": {},
   "source": [
    "#### Ironhack Call Center "
   ]
  },
  {
   "cell_type": "markdown",
   "metadata": {},
   "source": [
    "Suppose a customer service representative at a call center is handling customer complaints. Consider the following:\n",
    "- The probability of successfully resolving a customer complaint on the first attempt is 0.3. \n",
    "\n",
    "\n",
    "What is the probability that the representative needs to make at least three attempts before successfully resolving a customer complaint?"
   ]
  },
  {
   "cell_type": "code",
   "execution_count": 4,
   "metadata": {},
   "outputs": [
    {
     "data": {
      "text/plain": [
       "(0.3, 0.21, 0.49)"
      ]
     },
     "execution_count": 4,
     "metadata": {},
     "output_type": "execute_result"
    }
   ],
   "source": [
    "#code here\n",
    "p = 0.3  # probability of success\n",
    "\n",
    "# Probabilities for X = 1 and X = 2\n",
    "P_X_1 = p  # first success on the first attempt\n",
    "P_X_2 = (1 - p) * p  # first success on the second attempt\n",
    "\n",
    "# Probability of X >= 3\n",
    "P_X_gte_3 = 1 - (P_X_1 + P_X_2)\n",
    "\n",
    "P_X_1, P_X_2, P_X_gte_3"
   ]
  },
  {
   "cell_type": "markdown",
   "metadata": {},
   "source": [
    "**Challenge 3**"
   ]
  },
  {
   "cell_type": "markdown",
   "metadata": {},
   "source": [
    "#### Ironhack Website"
   ]
  },
  {
   "cell_type": "markdown",
   "metadata": {},
   "source": [
    "Consider a scenario related to Ironhack website traffic. Where:\n",
    "- our website takes on average 500 visits per hour.\n",
    "- the website's server is designed to handle up to 550 vists per hour.\n",
    "\n",
    "\n",
    "What is the probability of the website server being overwhelmed?"
   ]
  },
  {
   "cell_type": "code",
   "execution_count": 10,
   "metadata": {},
   "outputs": [
    {
     "data": {
      "text/plain": [
       "(0.01289822084039205, 0.2677043869515715)"
      ]
     },
     "execution_count": 10,
     "metadata": {},
     "output_type": "execute_result"
    }
   ],
   "source": [
    "#code here\n",
    "from scipy.stats import poisson\n",
    "\n",
    "# Parameters\n",
    "lambda_rate = 500  # average visits per hour\n",
    "threshold = 550  # server capacity\n",
    "hours_in_day = 24  # number of hours in a day\n",
    "\n",
    "# Task 1: Probability of being overwhelmed in 1 hour\n",
    "P_overwhelmed_hour = 1 - poisson.cdf(threshold, lambda_rate)\n",
    "P_overwhelmed_hour, P_overwhelmed_day"
   ]
  },
  {
   "cell_type": "markdown",
   "metadata": {},
   "source": [
    "What is the probability of being overwhelmed at some point during a day? (consider 24hours)"
   ]
  },
  {
   "cell_type": "code",
   "execution_count": 8,
   "metadata": {},
   "outputs": [
    {
     "data": {
      "text/plain": [
       "(0.01289822084039205, 0.2677043869515715)"
      ]
     },
     "execution_count": 8,
     "metadata": {},
     "output_type": "execute_result"
    }
   ],
   "source": [
    "#code here\n",
    "# Task 2: Probability of being overwhelmed at least once in 24 hours\n",
    "P_not_overwhelmed_hour = 1 - P_overwhelmed_hour\n",
    "P_overwhelmed_day = 1 - (P_not_overwhelmed_hour ** hours_in_day)\n",
    "\n",
    "P_overwhelmed_hour, P_overwhelmed_day"
   ]
  },
  {
   "cell_type": "markdown",
   "metadata": {},
   "source": [
    "**Challenge 4**"
   ]
  },
  {
   "cell_type": "markdown",
   "metadata": {},
   "source": [
    "#### Ironhack Helpdesk"
   ]
  },
  {
   "cell_type": "markdown",
   "metadata": {},
   "source": [
    "Consider a scenario related to the time between arrivals of customers at a service desk.\n",
    "\n",
    "On average, a customers arrives every 10minutes.\n",
    "\n",
    "What is the probability that the next customer will arrive within the next 5 minutes?"
   ]
  },
  {
   "cell_type": "code",
   "execution_count": 12,
   "metadata": {},
   "outputs": [
    {
     "data": {
      "text/plain": [
       "0.3934693402873666"
      ]
     },
     "execution_count": 12,
     "metadata": {},
     "output_type": "execute_result"
    }
   ],
   "source": [
    "import math\n",
    "\n",
    "# Parameters\n",
    "rate = 1 / 10  # rate of arrivals (1 arrival every 10 minutes)\n",
    "time_interval = 5  # time of interest (5 minutes)\n",
    "\n",
    "# Probability calculation\n",
    "P_within_5_minutes = 1 - math.exp(-rate * time_interval)\n",
    "P_within_5_minutes"
   ]
  },
  {
   "cell_type": "markdown",
   "metadata": {},
   "source": [
    "If there is no customer for 15minutes, employees can that a 5minutes break.\n",
    "\n",
    "What is the probability an employee taking a break?"
   ]
  },
  {
   "cell_type": "code",
   "execution_count": 14,
   "metadata": {},
   "outputs": [
    {
     "data": {
      "text/plain": [
       "0.22313016014842982"
      ]
     },
     "execution_count": 14,
     "metadata": {},
     "output_type": "execute_result"
    }
   ],
   "source": [
    "# Parameters\n",
    "time_threshold = 15  # threshold time (15 minutes)\n",
    "\n",
    "# Probability calculation\n",
    "P_no_customer_15_minutes = math.exp(-rate * time_threshold)\n",
    "P_no_customer_15_minutes"
   ]
  },
  {
   "cell_type": "markdown",
   "metadata": {},
   "source": [
    "**Challenge 5**"
   ]
  },
  {
   "cell_type": "markdown",
   "metadata": {},
   "source": [
    "The weights of a certain species of birds follow a normal distribution with a mean weight of 150 grams and a standard deviation of 10 grams. \n",
    "\n",
    "- If we randomly select a bird, what is the probability that its weight is between 140 and 160 grams?"
   ]
  },
  {
   "cell_type": "code",
   "execution_count": 16,
   "metadata": {},
   "outputs": [
    {
     "data": {
      "text/plain": [
       "0.6826894921370859"
      ]
     },
     "execution_count": 16,
     "metadata": {},
     "output_type": "execute_result"
    }
   ],
   "source": [
    "#code here\n",
    "from scipy.stats import norm\n",
    "\n",
    "# Parameters\n",
    "mu = 150  # mean\n",
    "sigma = 10  # standard deviation\n",
    "a = 140  # lower bound\n",
    "b = 160  # upper bound\n",
    "\n",
    "# CDF values\n",
    "P_X_leq_b = norm.cdf(b, mu, sigma)  # P(X <= 160)\n",
    "P_X_leq_a = norm.cdf(a, mu, sigma)  # P(X <= 140)\n",
    "\n",
    "# Probability between 140 and 160\n",
    "P_between = P_X_leq_b - P_X_leq_a\n",
    "P_between"
   ]
  },
  {
   "cell_type": "markdown",
   "metadata": {},
   "source": [
    "**Challenge 6**"
   ]
  },
  {
   "cell_type": "markdown",
   "metadata": {},
   "source": [
    "If the lifetime (in hours) of a certain electronic component follows an exponential distribution with a mean lifetime of 50 hours, what is the probability that the component fails within the first 30 hours?"
   ]
  },
  {
   "cell_type": "code",
   "execution_count": 18,
   "metadata": {},
   "outputs": [
    {
     "data": {
      "text/plain": [
       "0.4511883639059735"
      ]
     },
     "execution_count": 18,
     "metadata": {},
     "output_type": "execute_result"
    }
   ],
   "source": [
    "#code here\n",
    "# Parameters\n",
    "mean_lifetime = 50  # mean lifetime in hours\n",
    "rate = 1 / mean_lifetime  # rate parameter (lambda)\n",
    "time_of_interest = 30  # time of interest (30 hours)\n",
    "\n",
    "# Probability calculation\n",
    "P_fail_within_30 = 1 - math.exp(-rate * time_of_interest)\n",
    "P_fail_within_30"
   ]
  },
  {
   "cell_type": "code",
   "execution_count": null,
   "metadata": {},
   "outputs": [],
   "source": []
  }
 ],
 "metadata": {
  "kernelspec": {
   "display_name": "Python 3 (ipykernel)",
   "language": "python",
   "name": "python3"
  },
  "language_info": {
   "codemirror_mode": {
    "name": "ipython",
    "version": 3
   },
   "file_extension": ".py",
   "mimetype": "text/x-python",
   "name": "python",
   "nbconvert_exporter": "python",
   "pygments_lexer": "ipython3",
   "version": "3.12.4"
  }
 },
 "nbformat": 4,
 "nbformat_minor": 4
}
